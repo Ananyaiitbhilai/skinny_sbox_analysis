{
 "cells": [
  {
   "cell_type": "markdown",
   "metadata": {},
   "source": [
    "# S-Box Construction/ ANF"
   ]
  },
  {
   "cell_type": "code",
   "execution_count": 41,
   "metadata": {},
   "outputs": [
    {
     "name": "stdout",
     "output_type": "stream",
     "text": [
      "0 --------> c\n",
      "1 --------> 6\n",
      "2 --------> 9\n",
      "3 --------> 0\n",
      "4 --------> 1\n",
      "5 --------> a\n",
      "6 --------> 2\n",
      "7 --------> b\n",
      "8 --------> 3\n",
      "9 --------> 8\n",
      "A --------> 5\n",
      "B --------> d\n",
      "C --------> 4\n",
      "D --------> e\n",
      "E --------> 7\n",
      "F --------> f\n"
     ]
    }
   ],
   "source": [
    "list_hexes = [\"0\",\"1\", \"2\", \"3\",\"4\", \"5\", \"6\", \"7\", \"8\", \"9\", \"A\", \"B\", \"C\", \"D\", \"E\", \"F\"]\n",
    "for i in range(len(list_hexes)):\n",
    "\ts_bit_1 = int(list_hexes[i], 16)\n",
    "\tbinary = format(s_bit_1 , 'b')\n",
    "\tif len(binary)<2:\n",
    "\t\tbinary = \"000\"+binary\n",
    "\n",
    "\tif len(binary)<3:\n",
    "\t\tbinary = \"00\"+binary\n",
    "\n",
    "\tif len(binary)<4:\n",
    "\t\tbinary = \"0\"+binary\n",
    "\n",
    "\tx0 = int(binary[0])\n",
    "\tx1 = int(binary[1])\n",
    "\tx2 = int(binary[2])\n",
    "\tx3 = int(binary[3])\n",
    "# Function to calculate OR Gate\n",
    "\tdef OR(A, B):\n",
    "\t\treturn A | B;\t\n",
    "\n",
    "# Function to simulate NOT Gate\n",
    "\tdef NOT(A):\n",
    "\t\treturn ~A+2\t\n",
    "\n",
    "# Function to simulate NOR Gate\n",
    "\tdef NOR(A, B):\n",
    "\t\treturn NOT(OR(A, B))\n",
    "\n",
    "\ta = ((x3 ^ (NOR(x0,x1))))\n",
    "\tb = ((x0 ^ (NOR(x2,x1))))\n",
    "\tc = ((x1 ^ (NOR(x2,a))))\n",
    "\td = ((x2 ^ (NOR(a,b))))\n",
    "\tfinal = str(a)+str(b)+str(c)+str(d)\n",
    "\t#print(final)\n",
    "\n",
    "\tdef binToHexa(n):\n",
    "\t\n",
    "\t# convert binary to int\n",
    "\t\tnum = int(n, 2)\n",
    "\t\n",
    "\t# convert int to hexadecimal\n",
    "\t\thex_num = format(num, 'x')\n",
    "\t\treturn(hex_num)\n",
    "\n",
    "# Driver code\n",
    "\tif __name__ == '__main__':\n",
    "\n",
    "\t\tprint(list_hexes[i],\"-------->\",binToHexa(final))\n"
   ]
  },
  {
   "cell_type": "code",
   "execution_count": 63,
   "metadata": {},
   "outputs": [],
   "source": [
    "#s_box\n",
    "s_box = {0:12, 1:6, 2:9, 3:0, 4:1, 5:10, 6:2, 7:11, 8:3, 9:8, 10:5, 11:13, 12:4, 13:14, 14:7, 15:15}\n",
    "# hamming weights\n",
    "hamming_weights = {0: 0, 1: 1, 2: 1, 3: 2, 4: 1, 5: 2, 6: 2, 7: 3, 8: 1, 9: 2, 10: 2, 11: 3, 12: 2, 13: 3, 14: 3, 15: 4}"
   ]
  },
  {
   "cell_type": "code",
   "execution_count": 67,
   "metadata": {},
   "outputs": [],
   "source": [
    "def ddt(sbox):\n",
    "  ddt = [[0]*16 for m in range(16)]\n",
    "  for m in range(16):\n",
    "    for n in range(16):\n",
    "      # ddt entries updation\n",
    "      r = m^n\n",
    "      c = sbox[m]^sbox[n]\n",
    "      ddt[r][c] += 1  \n",
    "  return ddt\n",
    "\n",
    "\n",
    "def lat(sbox):\n",
    "  lin = 0 \n",
    "  lat = [[0]*16 for m in range(16)]\n",
    "  for a in range(16):\n",
    "    for b in range(16):\n",
    "      out = 0\n",
    "      for n in range(16):\n",
    "        n_mask = n & a\n",
    "        o_mask = sbox[n] & b\n",
    "        if (hamming_weights[n_mask] - hamming_weights[o_mask]) % 2 == 0:\n",
    "          out += 1\n",
    "      lat[a][b] = out - 16//2\n",
    "  return lat"
   ]
  },
  {
   "cell_type": "markdown",
   "metadata": {},
   "source": [
    "# DDT"
   ]
  },
  {
   "cell_type": "code",
   "execution_count": 66,
   "metadata": {},
   "outputs": [
    {
     "name": "stdout",
     "output_type": "stream",
     "text": [
      "[[16, 0, 0, 0, 0, 0, 0, 0, 0, 0, 0, 0, 0, 0, 0, 0], [0, 0, 0, 0, 0, 0, 0, 0, 4, 4, 4, 4, 0, 0, 0, 0], [0, 4, 0, 4, 0, 4, 4, 0, 0, 0, 0, 0, 0, 0, 0, 0], [0, 0, 0, 0, 0, 0, 0, 0, 2, 2, 2, 2, 2, 2, 2, 2], [0, 0, 4, 0, 0, 0, 2, 2, 0, 0, 0, 4, 2, 2, 0, 0], [0, 0, 4, 0, 0, 0, 2, 2, 0, 0, 4, 0, 2, 2, 0, 0], [0, 2, 0, 2, 2, 0, 0, 2, 2, 0, 2, 0, 0, 2, 2, 0], [0, 2, 0, 2, 2, 0, 0, 2, 0, 2, 0, 2, 2, 0, 0, 2], [0, 0, 0, 0, 4, 4, 0, 0, 0, 0, 0, 0, 2, 2, 2, 2], [0, 0, 0, 0, 4, 4, 0, 0, 0, 0, 0, 0, 2, 2, 2, 2], [0, 0, 0, 0, 0, 4, 4, 0, 2, 2, 2, 2, 0, 0, 0, 0], [0, 4, 0, 4, 0, 0, 0, 0, 0, 0, 0, 0, 2, 2, 2, 2], [0, 0, 4, 0, 0, 0, 2, 2, 4, 0, 0, 0, 0, 0, 2, 2], [0, 0, 4, 0, 0, 0, 2, 2, 0, 4, 0, 0, 0, 0, 2, 2], [0, 2, 0, 2, 2, 0, 0, 2, 0, 2, 0, 2, 0, 2, 2, 0], [0, 2, 0, 2, 2, 0, 0, 2, 2, 0, 2, 0, 2, 0, 0, 2]]\n"
     ]
    }
   ],
   "source": [
    "print(ddt(s_box))"
   ]
  },
  {
   "cell_type": "markdown",
   "metadata": {},
   "source": [
    "# LAT"
   ]
  },
  {
   "cell_type": "code",
   "execution_count": 68,
   "metadata": {},
   "outputs": [
    {
     "name": "stdout",
     "output_type": "stream",
     "text": [
      "[[8, 0, 0, 0, 0, 0, 0, 0, 0, 0, 0, 0, 0, 0, 0, 0], [0, -2, 2, 0, 0, -2, -2, -4, 4, -2, -2, 0, 0, 2, -2, 0], [0, 4, 0, 0, 0, -4, 0, 0, 0, -4, 0, 0, 0, -4, 0, 0], [0, -2, 2, 4, 0, -2, -2, 0, 0, 2, 2, 0, 4, -2, 2, 0], [0, 0, 4, 0, 0, 0, 0, 4, 0, 0, -4, 0, 0, 0, 0, 4], [0, -2, -2, 0, 0, -2, -2, 0, -4, -2, 2, 0, 0, 2, -2, 4], [0, 0, -4, 4, 0, 0, 0, 0, 0, 0, -4, -4, 0, 0, 0, 0], [0, 2, -2, 0, 0, 2, -2, 0, 0, -2, -2, 4, 4, 2, 2, 0], [0, 2, 0, -2, 4, -2, 0, -2, 0, 2, 0, -2, 0, 2, 4, 2], [0, 0, 2, -2, 0, 0, 2, -2, -4, 0, -2, -2, 4, 0, -2, -2], [0, -2, 0, -2, -4, 2, 0, -2, 0, -2, 0, -2, 0, -2, 4, 2], [0, 0, 2, 2, 0, 0, 2, 2, 0, -4, 2, -2, 0, 4, 2, -2], [0, 2, 0, 2, -4, -2, 4, -2, 0, 2, 0, 2, 0, 2, 0, 2], [0, 0, 2, 2, 0, 0, -2, -2, -4, 0, -2, 2, -4, 0, 2, -2], [0, 2, 0, -2, -4, -2, -4, 2, 0, 2, 0, -2, 0, 2, 0, -2], [0, 4, 2, 2, 0, 4, -2, -2, 0, 0, 2, -2, 0, 0, -2, 2]]\n"
     ]
    }
   ],
   "source": [
    "print(lat(s_box))"
   ]
  }
 ],
 "metadata": {
  "interpreter": {
   "hash": "7ee95d886ad6a6863c7e39ed80d00f548f5e490ac5c36d2d9e2191de87ee4a11"
  },
  "kernelspec": {
   "display_name": "Python 3.9.13 64-bit ('base': conda)",
   "language": "python",
   "name": "python3"
  },
  "language_info": {
   "codemirror_mode": {
    "name": "ipython",
    "version": 3
   },
   "file_extension": ".py",
   "mimetype": "text/x-python",
   "name": "python",
   "nbconvert_exporter": "python",
   "pygments_lexer": "ipython3",
   "version": "3.9.13"
  },
  "orig_nbformat": 4
 },
 "nbformat": 4,
 "nbformat_minor": 2
}
